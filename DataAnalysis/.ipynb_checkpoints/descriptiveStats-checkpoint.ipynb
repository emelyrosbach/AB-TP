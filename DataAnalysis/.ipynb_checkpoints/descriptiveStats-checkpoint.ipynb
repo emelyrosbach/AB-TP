{
 "cells": [
  {
   "cell_type": "code",
   "execution_count": 5,
   "id": "a8183154-0222-4aa1-a69c-76004a6660eb",
   "metadata": {},
   "outputs": [
    {
     "name": "stdout",
     "output_type": "stream",
     "text": [
      "All AB cases - Count: 38, Average performance: 23.61 (SD: 19.32), Mean JAS: 0.62 (SD: 0.29)\n",
      "AB - no TP - Count: 19, Average performance: 19.42 (SD: 17.37), Mean JAS: 0.58 (SD: 0.32)\n",
      "AB - TP - Count: 19, Average performance: 27.79 (SD: 20.71), Mean JAS: 0.65 (SD: 0.25)\n"
     ]
    }
   ],
   "source": [
    "import os\n",
    "import pandas as pd\n",
    "\n",
    "def getdescriptiveStats():\n",
    "    df=pd.read_excel('./data.xlsx')\n",
    "    # filter for AB\n",
    "    df = df[((df.GT < 25) & (df.EstB < 25) & (df.PredAI >= 25) & (df.EstAI >= 25)) | ((df.GT >= 25) & (df.EstB >= 25) & (df.PredAI < 25) & (df.EstAI < 25))]\n",
    "    print_stats(df, \"All AB cases\")\n",
    "\n",
    "    # filter AB cases - no time pressure\n",
    "    df_tp0 = df[df['TP'] == 0]\n",
    "    print_stats(df_tp0, \"AB - no TP\")\n",
    "    \n",
    "    # filter AB cases - with time pressure\n",
    "    df_tp1 = df[df['TP'] == 1]\n",
    "    print_stats(df_tp1, \"AB - TP\")\n",
    "\n",
    "def print_stats(df, label):\n",
    "    count = len(df)\n",
    "    mean_ABS_EstAI2GT = df['ABS_EstAI2GT'].mean()\n",
    "    sd_ABS_EstAI2GT = df['ABS_EstAI2GT'].std()\n",
    "    mean_JAS = df['JAS'].mean()\n",
    "    sd_JAS = df['JAS'].std()\n",
    "    print(f\"{label} - Count: {count}, Average performance: {mean_ABS_EstAI2GT:.2f} (SD: {sd_ABS_EstAI2GT:.2f}), \"f\"Mean JAS: {mean_JAS:.2f} (SD: {sd_JAS:.2f})\")\n",
    "\n",
    "getdescriptiveStats()"
   ]
  },
  {
   "cell_type": "code",
   "execution_count": null,
   "id": "00e3a7bf-ddd3-4cb7-8b21-7bef69a45b1d",
   "metadata": {},
   "outputs": [],
   "source": []
  }
 ],
 "metadata": {
  "kernelspec": {
   "display_name": "Python 3 (ipykernel)",
   "language": "python",
   "name": "python3"
  },
  "language_info": {
   "codemirror_mode": {
    "name": "ipython",
    "version": 3
   },
   "file_extension": ".py",
   "mimetype": "text/x-python",
   "name": "python",
   "nbconvert_exporter": "python",
   "pygments_lexer": "ipython3",
   "version": "3.12.7"
  }
 },
 "nbformat": 4,
 "nbformat_minor": 5
}
