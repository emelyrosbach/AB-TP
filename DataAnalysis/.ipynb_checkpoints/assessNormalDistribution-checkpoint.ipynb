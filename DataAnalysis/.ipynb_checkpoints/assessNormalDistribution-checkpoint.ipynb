{
 "cells": [
  {
   "cell_type": "code",
   "execution_count": 4,
   "id": "52d26939-d895-4b86-b343-c9bb0e57e886",
   "metadata": {},
   "outputs": [
    {
     "name": "stdout",
     "output_type": "stream",
     "text": [
      "Results for TP=0:\n",
      "JAS: W-statistic=0.9864, p-value=0.9669 - normally distributed\n",
      "ABS_EstB2GT: W-statistic=0.9376, p-value=0.0958 - normally distributed\n",
      "ABS_EstAI2GT: W-statistic=0.9670, p-value=0.5017 - normally distributed\n",
      "Results for TP=1:\n",
      "JAS: W-statistic=0.9777, p-value=0.7911 - normally distributed\n",
      "ABS_EstB2GT: W-statistic=0.9294, p-value=0.0597 - normally distributed\n",
      "ABS_EstAI2GT: W-statistic=0.9507, p-value=0.2065 - normally distributed\n",
      "Results after AB filtering\n",
      "Results for TP=0:\n",
      "JAS: W-statistic=0.9129, p-value=0.1501 - normally distributed\n",
      "ABS_EstAI2GT: W-statistic=0.6465, p-value=0.0001 - not normally distributed\n",
      "Results for TP=1:\n",
      "JAS: W-statistic=0.9750, p-value=0.9353 - normally distributed\n",
      "ABS_EstAI2GT: W-statistic=0.8989, p-value=0.1087 - normally distributed\n"
     ]
    }
   ],
   "source": [
    "import xlsxwriter\n",
    "import os\n",
    "import pandas as pd\n",
    "from scipy.stats import shapiro\n",
    "\n",
    "def shapiroWilkTestGeneral():\n",
    "    df=pd.read_excel('./data.xlsx')\n",
    "    mean_values = df.groupby(['participant_id', 'TP'])[['JAS', 'ABS_EstB2GT', 'ABS_EstAI2GT']].mean().reset_index()\n",
    "\n",
    "    for tp_value in mean_values['TP'].unique():\n",
    "        group_data = mean_values[mean_values['TP'] == tp_value][['JAS', 'ABS_EstB2GT', 'ABS_EstAI2GT']]\n",
    "        print(f\"Results for TP={tp_value}:\")\n",
    "        for column in group_data.columns:\n",
    "            stat, p_value = shapiro(group_data[column])\n",
    "            if p_value >= 0.05:\n",
    "                result = \"normally distributed\"\n",
    "            else:\n",
    "                result = \"not normally distributed\"\n",
    "            print(f\"{column}: W-statistic={stat:.4f}, p-value={p_value:.4f} - {result}\")\n",
    "\n",
    "def shapiroWilkTestAB():\n",
    "    df=pd.read_excel('./data.xlsx')\n",
    "    # filter for AB\n",
    "    df = df[((df.GT < 25) & (df.EstB < 25) & (df.PredAI >= 25) & (df.EstAI >= 25)) | ((df.GT >= 25) & (df.EstB >= 25) & (df.PredAI < 25) & (df.EstAI < 25))]\n",
    "    mean_values = df.groupby(['participant_id', 'TP'])[['JAS', 'ABS_EstAI2GT']].mean().reset_index()\n",
    "\n",
    "    print(f\"Results after AB filtering\")\n",
    "    for tp_value in mean_values['TP'].unique():\n",
    "        group_data = mean_values[mean_values['TP'] == tp_value][['JAS', 'ABS_EstAI2GT']]\n",
    "        print(f\"Results for TP={tp_value}:\")\n",
    "        for column in group_data.columns:\n",
    "            stat, p_value = shapiro(group_data[column])\n",
    "            if p_value >= 0.05:\n",
    "                result = \"normally distributed\"\n",
    "            else:\n",
    "                result = \"not normally distributed\"\n",
    "            print(f\"{column}: W-statistic={stat:.4f}, p-value={p_value:.4f} - {result}\")\n",
    "\n",
    "shapiroWilkTestGeneral()\n",
    "shapiroWilkTestAB()\n"
   ]
  },
  {
   "cell_type": "code",
   "execution_count": null,
   "id": "b9755e17-e85b-4abe-9be3-5cbbe74264e9",
   "metadata": {},
   "outputs": [],
   "source": []
  },
  {
   "cell_type": "code",
   "execution_count": null,
   "id": "41362f40-dd69-45fc-ae3c-11985e28a925",
   "metadata": {},
   "outputs": [],
   "source": []
  }
 ],
 "metadata": {
  "kernelspec": {
   "display_name": "Python 3 (ipykernel)",
   "language": "python",
   "name": "python3"
  },
  "language_info": {
   "codemirror_mode": {
    "name": "ipython",
    "version": 3
   },
   "file_extension": ".py",
   "mimetype": "text/x-python",
   "name": "python",
   "nbconvert_exporter": "python",
   "pygments_lexer": "ipython3",
   "version": "3.12.7"
  }
 },
 "nbformat": 4,
 "nbformat_minor": 5
}
